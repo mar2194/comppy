{
 "cells": [
  {
   "cell_type": "code",
   "execution_count": 33,
   "metadata": {},
   "outputs": [],
   "source": [
    "from comppy.clt import Layup\n",
    "from comppy.clt import Laminate\n",
    "from comppy.clt import Material\n",
    "from comppy.clt import MatLib\n",
    "from comppy.clt import Laminate\n",
    "from comppy.clt import Requirements\n",
    "import numpy as np"
   ]
  },
  {
   "cell_type": "markdown",
   "metadata": {},
   "source": [
    "## Defining laminates manually\n",
    "### Begin by defining the ply orientation and material layups\n",
    "The layup orientation string should match the layup material string. The standard ASTM D6507 orientation codes are also valid for defining the material order."
   ]
  },
  {
   "cell_type": "code",
   "execution_count": 34,
   "metadata": {},
   "outputs": [],
   "source": [
    "#e.g., layup_orientations = \"[+-45/(45/90):s/0:2]:s\"\n",
    "#                         = \"[+-45/(45/90):s/0\\]:s\"\n",
    "layup_orientations = \"[90/0/90/0]\"\n",
    "layup_materials = \"[material1/material1/material1/material1]\""
   ]
  },
  {
   "cell_type": "markdown",
   "metadata": {},
   "source": [
    "Generate a Layup object from the layup orientation and material strings."
   ]
  },
  {
   "cell_type": "code",
   "execution_count": 35,
   "metadata": {},
   "outputs": [],
   "source": [
    "layup_1 = Layup.gen_from_short(layup_orientations, layup_materials)"
   ]
  },
  {
   "cell_type": "markdown",
   "metadata": {},
   "source": [
    "Inspect the layup orientation and material lists:"
   ]
  },
  {
   "cell_type": "code",
   "execution_count": 36,
   "metadata": {},
   "outputs": [
    {
     "name": "stdout",
     "output_type": "stream",
     "text": [
      "[90.0, 0.0, 90.0, 0.0]\n",
      "['material1', 'material1', 'material1', 'material1']\n"
     ]
    }
   ],
   "source": [
    "print(layup_1.layup_list)\n",
    "print(layup_1.material_list)"
   ]
  },
  {
   "cell_type": "markdown",
   "metadata": {},
   "source": [
    "### Define materials and build a material library\n",
    "The name property of Material objects should match the material names used in the layup material string."
   ]
  },
  {
   "cell_type": "code",
   "execution_count": 37,
   "metadata": {},
   "outputs": [],
   "source": [
    "#material = Material(name, ex, ey, gxy, vxy, t) or material = Material.gen_from_dict(dict_of_material_properties)\n",
    "m1 = Material('material1', 70, 70, 35, 0.13, 0.1)\n",
    "m2 = Material('material2', 140, 25, 35, 0.13, 0.15)\n",
    "m3 = Material('material3', 73, 73, 35, 0.13, 0.2)"
   ]
  },
  {
   "cell_type": "markdown",
   "metadata": {},
   "source": [
    "MatLib objects can be defined from Material objects or a dictionary of material properties."
   ]
  },
  {
   "cell_type": "code",
   "execution_count": 38,
   "metadata": {},
   "outputs": [],
   "source": [
    "# library = MatLib(material1, material2, material3,...) or library=MatLib(dict_of_dict_of_material_definitions)\n",
    "# Using material objects\n",
    "library1 = MatLib(m1, m2, m3)"
   ]
  },
  {
   "cell_type": "markdown",
   "metadata": {},
   "source": [
    "### Define a Laminate object from the Layup and MatLib objects"
   ]
  },
  {
   "cell_type": "code",
   "execution_count": 39,
   "metadata": {},
   "outputs": [],
   "source": [
    "laminate1 = Laminate(layup_1, library1)"
   ]
  },
  {
   "cell_type": "markdown",
   "metadata": {},
   "source": [
    "### Inspect the properties of the Laminate\n",
    "The ABD matrix is 6x6 numpy array"
   ]
  },
  {
   "cell_type": "code",
   "execution_count": 40,
   "metadata": {},
   "outputs": [
    {
     "name": "stdout",
     "output_type": "stream",
     "text": [
      "[[ 2.84813346e+01  3.70257349e+00 -1.08427725e-06 -7.28306304e-14  7.30249194e-14  5.42138623e-08]\n",
      " [ 3.70257349e+00  2.84813346e+01  1.08427725e-06  7.30249194e-14 -7.28306304e-14 -5.42138623e-08]\n",
      " [-1.08427725e-06  1.08427725e-06  1.40000000e+01  5.42138623e-08 -5.42138623e-08  7.29416527e-14]\n",
      " [-7.28306304e-14  7.30249194e-14  5.42138623e-08  3.79751127e-01  4.93676466e-02 -1.44570300e-08]\n",
      " [ 7.30249194e-14 -7.28306304e-14 -5.42138623e-08  4.93676466e-02  3.79751127e-01  1.44570300e-08]\n",
      " [ 5.42138623e-08 -5.42138623e-08  7.29416527e-14 -1.44570300e-08  1.44570300e-08  1.86666667e-01]]\n"
     ]
    }
   ],
   "source": [
    "print(np.array2string(laminate1.abd, max_line_width=np.inf))"
   ]
  },
  {
   "cell_type": "markdown",
   "metadata": {},
   "source": [
    "Inspect the effective elastic constants:"
   ]
  },
  {
   "cell_type": "code",
   "execution_count": 41,
   "metadata": {},
   "outputs": [
    {
     "name": "stdout",
     "output_type": "stream",
     "text": [
      "unrestrained properties:\n",
      "e_x : 70.00000000000433\n",
      "e_y : 70.00000000000435\n",
      "v_xy : 0.12999999999994596\n",
      "v_yx : 0.129999999999946\n",
      "g_xy : 34.999999999996064\n"
     ]
    }
   ],
   "source": [
    "for prop_type, properties in laminate1.effective_props.items():\n",
    "    print(prop_type, 'properties:')\n",
    "    for prop_name, prop in properties.items():\n",
    "        print(prop_name,\":\", prop)"
   ]
  },
  {
   "cell_type": "markdown",
   "metadata": {},
   "source": [
    "### Generate a Requirements object to specify design requirements\n",
    "You can specify the numerical tolerance of the symmetry, balanced and flexurally balanced conditions"
   ]
  },
  {
   "cell_type": "code",
   "execution_count": 42,
   "metadata": {},
   "outputs": [],
   "source": [
    "laminate1_reqs = Requirements(symmetry=1e-6, balanced=1e-6, flex_bal=1e-6)"
   ]
  },
  {
   "cell_type": "markdown",
   "metadata": {},
   "source": [
    "Test the Laminate object to see if it meets design requirements:"
   ]
  },
  {
   "cell_type": "code",
   "execution_count": 43,
   "metadata": {},
   "outputs": [],
   "source": [
    "dict_of_conditions = laminate1.validate(laminate1_reqs)"
   ]
  },
  {
   "cell_type": "markdown",
   "metadata": {},
   "source": [
    "See if the Laminate meets design requirements:"
   ]
  },
  {
   "cell_type": "code",
   "execution_count": 44,
   "metadata": {},
   "outputs": [
    {
     "name": "stdout",
     "output_type": "stream",
     "text": [
      "Was the laminate symmetric? True\n",
      "Was the laminate balanced? True\n",
      "Was the laminate flexurally balanced? True\n"
     ]
    }
   ],
   "source": [
    "for condition, validity in dict_of_conditions.items():\n",
    "    print('Was the laminate', condition+'?', validity)"
   ]
  },
  {
   "cell_type": "markdown",
   "metadata": {},
   "source": [
    "## Generate a Laminate from design requirements\n",
    "### Begin by defining a MatLib object and a Requirements object"
   ]
  },
  {
   "cell_type": "code",
   "execution_count": 45,
   "metadata": {},
   "outputs": [],
   "source": [
    "# Using a dictionary of material properties\n",
    "library2 = MatLib({'material1': {'e1': 90, 'e2': 15, 'g12': 35, 'v12': 0.013, 't': 0.1},'material2': {'e1': 70, 'e2': 70, 'g12': 35, 'v12': 0.013, 't': 0.1}} )\n",
    "# Requirements object\n",
    "laminate2_reqs = Requirements(symmetry=1e-6, balanced=1e-6, flex_bal=1e-6)"
   ]
  },
  {
   "cell_type": "markdown",
   "metadata": {},
   "source": [
    "### Generate a Laminate object by submitting the MatLib and Requirements objects to Laminate.gen_from_reqs"
   ]
  },
  {
   "cell_type": "code",
   "execution_count": 46,
   "metadata": {},
   "outputs": [],
   "source": [
    "laminate2 = Laminate.gen_bal_sym(library2, laminate2_reqs)"
   ]
  },
  {
   "cell_type": "code",
   "execution_count": 49,
   "metadata": {},
   "outputs": [
    {
     "data": {
      "text/plain": [
       "array([[ 7.12033364e+01,  9.25643373e+00, -5.42138623e-06],\n",
       "       [ 9.25643373e+00,  7.12033364e+01,  5.42138623e-06],\n",
       "       [-5.42138623e-06,  5.42138623e-06,  3.50000000e+01]])"
      ]
     },
     "execution_count": 49,
     "metadata": {},
     "output_type": "execute_result"
    }
   ],
   "source": [
    "Laminate.return_q_bar(library1.material1, 90)"
   ]
  },
  {
   "cell_type": "code",
   "execution_count": 50,
   "metadata": {},
   "outputs": [
    {
     "data": {
      "text/plain": [
       "array([[90.00253507,  0.19500549,  0.        ],\n",
       "       [ 0.19500549, 15.00042251,  0.        ],\n",
       "       [ 0.        ,  0.        , 35.        ]])"
      ]
     },
     "execution_count": 50,
     "metadata": {},
     "output_type": "execute_result"
    }
   ],
   "source": [
    "library1.material1.q"
   ]
  },
  {
   "cell_type": "code",
   "execution_count": null,
   "metadata": {},
   "outputs": [],
   "source": []
  }
 ],
 "metadata": {
  "kernelspec": {
   "display_name": "Python 3",
   "language": "python",
   "name": "python3"
  },
  "language_info": {
   "codemirror_mode": {
    "name": "ipython",
    "version": 3
   },
   "file_extension": ".py",
   "mimetype": "text/x-python",
   "name": "python",
   "nbconvert_exporter": "python",
   "pygments_lexer": "ipython3",
   "version": "3.7.4"
  }
 },
 "nbformat": 4,
 "nbformat_minor": 2
}
